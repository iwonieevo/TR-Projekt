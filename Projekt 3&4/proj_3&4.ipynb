{
 "cells": [
  {
   "cell_type": "markdown",
   "id": "31d9d91d",
   "metadata": {},
   "source": [
    "# Technika regulacji - Projekt 3&4\n",
    "\n",
    "**Autorzy:** Iwo Chwiszczuk 280043, Szymon Flis 280153\n",
    "\n",
    "📅 **Data:** 8 czerwca 2025"
   ]
  },
  {
   "cell_type": "markdown",
   "id": "3d57d164",
   "metadata": {},
   "source": [
    "## Przygotowanie potrzebnych bibliotek i narzędzi oraz wyliczenie stałych A, B i C"
   ]
  },
  {
   "cell_type": "code",
   "execution_count": 3,
   "id": "1f017de7",
   "metadata": {},
   "outputs": [],
   "source": [
    "import sympy as sp\n",
    "import lcapy as lc\n",
    "import numpy as np\n",
    "import control as ctrl\n",
    "import matplotlib.pyplot as plt\n",
    "from IPython.display import display, Markdown\n",
    "sp.init_printing()\n",
    "\n",
    "from lcapy import s as lc_s, t as lc_t\n",
    "from lcapy.discretetime import k as lc_k, z as lc_z, n as lc_n\n",
    "\n",
    "from sympy.abc import t as sp_t, s as sp_s\n",
    "sp_k = sp.symbols('k', integer=True)\n",
    "sp_T = sp.symbols('T', positive=True)\n",
    "\n",
    "y_t = sp.Function('y')(sp_t)\n",
    "y_k = sp.IndexedBase('y')\n",
    "u_k = sp.IndexedBase('u')\n",
    "\n",
    "A, B = 3, 3\n",
    "C = A + B\n",
    "\n",
    "impulse_input = lambda x=100, A=1: np.concatenate(([A], np.zeros(x-1)))\n",
    "step_input = lambda x=100, A=1: np.ones(x) * A"
   ]
  },
  {
   "cell_type": "markdown",
   "id": "a02a9c65",
   "metadata": {},
   "source": [
    "## Zadanie 1"
   ]
  },
  {
   "cell_type": "markdown",
   "id": "c5b716dc",
   "metadata": {},
   "source": [
    "### Wyprowadzenie równań różnicowych z równań różniczkowych dla dwóch wybranych czasów próbkowania"
   ]
  },
  {
   "cell_type": "markdown",
   "id": "359918ca",
   "metadata": {},
   "source": [
    "#### Funkcja wyznaczająca równanie różnicowe, dla danego równania różniczkowego i czasu próbkowania"
   ]
  },
  {
   "cell_type": "code",
   "execution_count": null,
   "id": "5c7dbb34",
   "metadata": {},
   "outputs": [],
   "source": [
    "def differential_to_difference(differential_eq, h):\n",
    "    difference_eq = differential_eq.subs({\n",
    "        sp.diff(y_t, sp_t, sp_t): (y_k[sp_k] - 2*y_k[sp_k-1] + y_k[sp_k-2]) / h**2,\n",
    "        sp.diff(y_t, sp_t): (y_k[sp_k] - y_k[sp_k-1]) / h,\n",
    "        y_t: y_k[sp_k],\n",
    "        sp_t: h*sp_k\n",
    "    })\n",
    "\n",
    "    return difference_eq\n",
    "\n",
    "h1, h2 = 0.1, 0.5\n",
    "eq1 = sp.Eq(sp.diff(y_t, sp_t, sp_t) + 3*sp.diff(y_t, sp_t) + y_t, sp.sin(sp.Symbol('omega')*sp_t))\n",
    "eq2 = sp.Eq(sp.diff(y_t, sp_t, sp_t) + sp.diff(y_t, sp_t) - 2*y_t, 0)\n",
    "eq3 = sp.Eq(sp.diff(y_t, sp_t, sp_t) + 3*sp.diff(y_t, sp_t) + y_t, sp_t)\n",
    "\n",
    "display(Markdown(f\"#### **Obiekt I**\"))\n",
    "display(Markdown(f\"**Równanie różniczkowe:**<br>${sp.latex(eq1)}$\"))\n",
    "display(Markdown(f\"**Równanie różnicowe dla h = {h1}:**<br>${sp.latex(differential_to_difference(eq1, h1))}$\"))\n",
    "display(Markdown(f\"**Równanie różnicowe dla h = {h2}:**<br>${sp.latex(differential_to_difference(eq1, h2))}$\"))\n",
    "\n",
    "display(Markdown(f\"#### **Obiekt II**\"))\n",
    "display(Markdown(f\"**Równanie różniczkowe:**<br>${sp.latex(eq2)}$\"))\n",
    "display(Markdown(f\"**Równanie różnicowe dla h = {h1}:**<br>${sp.latex(differential_to_difference(eq2, h1))}$\"))\n",
    "display(Markdown(f\"**Równanie różnicowe dla h = {h2}:**<br>${sp.latex(differential_to_difference(eq2, h2))}$\"))\n",
    "\n",
    "display(Markdown(f\"#### **Obiekt III**\"))\n",
    "display(Markdown(f\"**Równanie różniczkowe:**<br>${sp.latex(eq3)}$\"))\n",
    "display(Markdown(f\"**Równanie różnicowe dla h = {h1}:**<br>${sp.latex(differential_to_difference(eq3, h1))}$\"))\n",
    "display(Markdown(f\"**Równanie różnicowe dla h = {h2}:**<br>${sp.latex(differential_to_difference(eq3, h2))}$\"))\n"
   ]
  },
  {
   "cell_type": "markdown",
   "id": "4c5d5f2a",
   "metadata": {},
   "source": [
    "### Symulacja odpowiedzi systemów opisanych równaniami różnicowymi"
   ]
  },
  {
   "cell_type": "markdown",
   "id": "184076c0",
   "metadata": {},
   "source": [
    "#### Funkcja symulująca odpowiedź układu o zadanym równaniu różnicowym na zadane pobudzenie"
   ]
  },
  {
   "cell_type": "code",
   "execution_count": null,
   "id": "2df08e80",
   "metadata": {},
   "outputs": [],
   "source": [
    "def simulate_discrete_system(difference_eq, initial_conditions, u_vals, u_name):\n",
    "    steps = len(u_vals)\n",
    "    y_vals = np.zeros(steps)\n",
    "    \n",
    "    for i in range(steps):\n",
    "        to_sub = {u_k[sp_k + n]: u_vals[i + n] if i + n >= 0 else 0 for n in range(-4, 1)}\n",
    "        to_sub.update({y_k[sp_k + n]: y_vals[i + n] if i + n >= 0 else 0 for n in range(-2, 1)})\n",
    "        to_sub.update(initial_conditions)\n",
    "\n",
    "        y_i = sp.solve(difference_eq, y_k[sp_k])\n",
    "        y_vals[i] = float(y_i[0].subs(to_sub))\n",
    "\n",
    "    k_vals = np.arange(steps)\n",
    "    plt.stem(k_vals, y_vals, linefmt='b-', markerfmt='bo', basefmt='r-', label='Odpowiedź y[k]')\n",
    "    plt.stem(k_vals, u_vals, linefmt='g--', markerfmt='gx', basefmt='r-', label='Pobudzenie u[k]')\n",
    "    plt.title(fr'Odpowiedź systemu dyskretnego ${sp.latex(difference_eq)}$ z warunkami początkowymi ${sp.latex(initial_conditions)}$ na {u_name}')\n",
    "    plt.xlabel('k')\n",
    "    plt.ylabel('Wartość')\n",
    "    plt.grid(True)\n",
    "    plt.legend()\n",
    "    plt.legend(loc='upper right', bbox_to_anchor=(1.4, 1))\n",
    "    plt.show()"
   ]
  },
  {
   "cell_type": "markdown",
   "id": "39cec022",
   "metadata": {},
   "source": [
    "#### System I"
   ]
  },
  {
   "cell_type": "code",
   "execution_count": null,
   "id": "a4ae22e9",
   "metadata": {},
   "outputs": [],
   "source": [
    "eq = sp.Eq(y_k[sp_k-1] + y_k[sp_k], 2*u_k[sp_k] + 5*u_k[sp_k-1] - 3*u_k[sp_k-2])\n",
    "ics1 = {y_k[-1]: 0}\n",
    "ics2 = {y_k[-1]: 10}\n",
    "simulate_discrete_system(eq, ics1, impulse_input(50), 'impuls')\n",
    "simulate_discrete_system(eq, ics2, impulse_input(50), 'impuls')\n",
    "simulate_discrete_system(eq, ics1, step_input(50), 'skok jednostkowy')\n",
    "simulate_discrete_system(eq, ics2, step_input(50), 'skok jednostkowy')"
   ]
  },
  {
   "cell_type": "markdown",
   "id": "608bb517",
   "metadata": {},
   "source": [
    "#### System II"
   ]
  },
  {
   "cell_type": "code",
   "execution_count": null,
   "id": "09a2ff82",
   "metadata": {},
   "outputs": [],
   "source": [
    "eq = sp.Eq(y_k[sp_k-1] + 2*y_k[sp_k], u_k[sp_k])\n",
    "ics1 = {y_k[-1]: 3}\n",
    "ics2 = {y_k[-1]: -3}\n",
    "simulate_discrete_system(eq, ics1, impulse_input(50), 'impuls')\n",
    "simulate_discrete_system(eq, ics2, impulse_input(50), 'impuls')\n",
    "simulate_discrete_system(eq, ics1, step_input(50), 'skok jednostkowy')\n",
    "simulate_discrete_system(eq, ics2, step_input(50), 'skok jednostkowy')\n"
   ]
  },
  {
   "cell_type": "markdown",
   "id": "e09832e8",
   "metadata": {},
   "source": [
    "#### System III"
   ]
  },
  {
   "cell_type": "code",
   "execution_count": null,
   "id": "4cd35691",
   "metadata": {},
   "outputs": [],
   "source": [
    "eq = sp.Eq(y_k[sp_k-2] - y_k[sp_k-1] + y_k[sp_k], u_k[sp_k] + u_k[sp_k-1] - 3*u_k[sp_k-3])\n",
    "ics1 = {y_k[-1]: 0, y_k[-2]: 0}\n",
    "ics2 = {y_k[-1]: -1, y_k[-2]: -1}\n",
    "simulate_discrete_system(eq, ics1, impulse_input(50), 'impuls')\n",
    "simulate_discrete_system(eq, ics2, impulse_input(50), 'impuls')\n",
    "simulate_discrete_system(eq, ics1, step_input(50), 'skok jednostkowy')\n",
    "simulate_discrete_system(eq, ics2, step_input(50), 'skok jednostkowy')"
   ]
  },
  {
   "cell_type": "markdown",
   "id": "19b001f7",
   "metadata": {},
   "source": [
    "### Transformata Z"
   ]
  },
  {
   "cell_type": "code",
   "execution_count": null,
   "id": "172df59c",
   "metadata": {},
   "outputs": [],
   "source": [
    "G1_s = C/((lc_s+A)*(lc_s+B)*(lc_s-1))\n",
    "display(Markdown(f\"$$G_1(s) = {sp.latex(G1_s)}$$\"))"
   ]
  },
  {
   "cell_type": "code",
   "execution_count": null,
   "id": "6c64181c",
   "metadata": {},
   "outputs": [],
   "source": [
    "g1_kT = G1_s.inverse_laplace().subs({lc.Heaviside(lc_t): 1, lc_t: lc_k*sp_T}).args[0][0].simplify()\n",
    "display(Markdown(f\"$$g_1(kT) = {sp.latex(g1_kT)}$$\"))\n",
    "G1_z = lc.ZT(g1_kT, lc_k, lc_z)\n",
    "display(Markdown(f\"$$G_1(z) = {sp.latex(G1_z)}$$\"))"
   ]
  },
  {
   "cell_type": "markdown",
   "id": "59277282",
   "metadata": {},
   "source": [
    "### Odwrotna Transformata Z"
   ]
  },
  {
   "cell_type": "code",
   "execution_count": null,
   "id": "f502503c",
   "metadata": {},
   "outputs": [],
   "source": [
    "izt_G1_z = lc.expr(G1_z).IZT().subs({lc_n: lc_k}).args[0][0].simplify()\n",
    "display(Markdown(rf\"$$Z^{{-1}}\\{{G_1(z)\\}} = {sp.latex(izt_G1_z)}$$\"))"
   ]
  },
  {
   "cell_type": "markdown",
   "id": "14e90da9",
   "metadata": {},
   "source": [
    "### Wnioski\n",
    "- Transformacja równań różniczkowych na różnicowe\n",
    "    - Pokazano skuteczną metodę przejścia od równań różniczkowych (opisujących systemy ciągłe) do równań różnicowych (opisujących systemy dyskretne) dla różnych kroków czasowych h\n",
    "    - Dla różnych obiektów otrzymano odpowiadające im równania różnicowe, co demonstruje uniwersalność metody\n",
    "- Symulacja systemów dyskretnych\n",
    "    - Zaimplementowana funkcja simulate_discrete_system pozwala na symulację odpowiedzi systemów dyskretnych na różne wymuszenia\n",
    "    - Symulacje pokazują znaczący wpływ warunków początkowych na odpowiedź symulowanych systemów\n",
    "    - Systemy wykazują różne zachowania w zależności od struktury równania różnicowego i warunków początkowych\n",
    "- Transformata Z i Odwrotna Transformata Z\n",
    "    - Wyznaczono Transformatę Z systemu na podstawie transmitancji ciągłej wykorzystując bibliotekę lcapy (która jest rozszerzeniem biblioteki sympy m.in. w zakresie działań w dziedzinie dyskretnej)\n",
    "    - Wyznaczono Odwrotną Transformatę Z i potwierdzono jej poprawność porównując ją z oryginalną odpowiedzią impulsową w dziedzinie dyskretnej"
   ]
  },
  {
   "cell_type": "markdown",
   "id": "83534c97",
   "metadata": {},
   "source": [
    "## Zadanie 2"
   ]
  },
  {
   "cell_type": "code",
   "execution_count": null,
   "id": "48a46655",
   "metadata": {},
   "outputs": [],
   "source": [
    "G2_s = C/((sp_s+A)*(sp_s+B)*(sp_s-1))\n",
    "\n",
    "def compare_continuous_discrete(G_continuous_sympy, Ts: list, ics: list, u_signal: np.ndarray, u_alias: str, iterations: int):\n",
    "    num = [float(c) for c in sp.Poly(sp.fraction(G_continuous_sympy)[0], sp_s).all_coeffs()]\n",
    "    den = [float(c) for c in sp.Poly(sp.fraction(G_continuous_sympy)[1], sp_s).all_coeffs()]\n",
    "    G_continuous_sys = ctrl.tf2ss(ctrl.TransferFunction(num, den))\n",
    "    \n",
    "    for T in Ts:\n",
    "        t_continuous = np.linspace(0, (iterations-1) * T, 1000)\n",
    "        y_continuous = ctrl.forced_response(G_continuous_sys, T=t_continuous, U=u_signal, X0=ics)[1]\n",
    "\n",
    "        G_discrete_sys = ctrl.c2d(G_continuous_sys, T, method='zoh')\n",
    "        t_discrete = np.arange(0, iterations) * T\n",
    "        y_discrete = ctrl.forced_response(G_discrete_sys, T=t_discrete, U=u_signal[:iterations], X0=ics)[1]\n",
    "\n",
    "        G_discrete = ctrl.ss2tf(G_discrete_sys)\n",
    "        a = G_discrete.den[0][0]\n",
    "        b = G_discrete.num[0][0]\n",
    "        difference_eq = sp.Eq(\n",
    "            y_k[sp_k],\n",
    "            -sum(a[i] * y_k[sp_k - i] for i in range(1, len(a))) + sum(b[i] * u_k[sp_k - i - 1] for i in range(len(b)))\n",
    "        )\n",
    "\n",
    "        y_difference = np.zeros(iterations)\n",
    "        u_difference = u_signal[:iterations]\n",
    "        for i in range(iterations):\n",
    "            to_sub = {y_k[sp_k + n]: y_difference[i + n] if i+n >= 0 else ics[-(i+n)-1] for n in range(-3, 0)}\n",
    "            to_sub.update({u_k[sp_k + n]: u_difference[i + n] if i+n >= 0 else 0 for n in range(-4, 0)})\n",
    "            y_difference[i] = float(sp.solve(difference_eq, y_k[sp_k])[0].subs(to_sub))\n",
    "\n",
    "        plt.figure(figsize=(12, 6))\n",
    "        plt.plot(t_continuous, y_continuous, 'b-', linewidth=2, label='system ciągły')\n",
    "        plt.step(t_discrete, y_discrete, 'o-', color='green', where='post', label=f'system ciągły po dyskretyzacji (transmitancja dyskretna)')\n",
    "        plt.scatter(t_discrete, y_difference, color='red', marker='x', s=100, label='system ciągły po dyskretyzacji (równanie różnicowe)')\n",
    "        plt.xlabel('Czas [s]')\n",
    "        plt.ylabel('Odpowiedź')\n",
    "        plt.title(f'Porównanie odpowiedzi ciągłej i dyskretnej systemu o transmitancji ${sp.latex(G_continuous_sympy)}$ na {u_alias}, dla czasu próbkowania {T=} oraz warunków początkowych {ics}\\nRównanie różnicowe ${sp.latex(difference_eq)}$')\n",
    "        plt.legend()\n",
    "        plt.legend(loc='lower left', bbox_to_anchor=(0, -0.2))\n",
    "        plt.grid(True)\n",
    "        plt.show()\n",
    "\n",
    "\n",
    "compare_continuous_discrete(G2_s, Ts=[0.1, 0.4, 0.7, 1.0], ics=[0, 0, 0], u_signal=step_input(1000), u_alias=\"skok jednostkowy\", iterations=20)\n",
    "compare_continuous_discrete(G2_s, Ts=[0.1, 0.4, 0.7, 1.0], ics=[1, 1, 1], u_signal=step_input(1000), u_alias=\"skok jednostkowy\", iterations=20)"
   ]
  },
  {
   "cell_type": "markdown",
   "id": "6f3a24bb",
   "metadata": {},
   "source": [
    "### Wnioski\n",
    "- Odpowiedź systemu dyskretnego wyznaczona metodą ZOH pokrywa się z odpowiedzią układu ciągłego przy odpowiednio dobranym czasie próbkowania i zerowych warunkach początkowych, co potwierdza poprawność dyskretyzacji (`ctrl.c2d(..., method='zoh')`).\n",
    "\n",
    "- W pierwotnej wersji, równanie różnicowe wyznaczone z transmitancji dyskretnej generowało odpowiedź przesuniętą w czasie. Wynikało to z nieuwzględnienia opóźnienia w działaniu wejścia $u[k]$, charakterystycznego dla metody ZOH.\n",
    "\n",
    "- Po uwzględnieniu tego opóźnienia poprzez przesunięcie indeksów wejścia o 1 wstecz (czyli stosując $u[k - i - 1]$ zamiast $u[k - i]$), odpowiedź z równania różnicowego zaczęła się pokrywać z odpowiedzią dyskretną oraz ciągłą, eliminując przesunięcie.\n",
    "\n",
    "- Poprawione równanie różnicowe ma postać:\n",
    "  $y[k] = -\\sum_{i=1}^{n} a_i \\cdot y[k - i] + \\sum_{i=0}^{m} b_i \\cdot u[k - i - 1]$\n",
    "  i w pełni odzwierciedla dynamikę układu dyskretnego uzyskanego metodą ZOH.\n",
    "\n",
    "- Transmitancja dyskretna nadal zakłada zerowe warunki początkowe, dlatego dla niezerowych stanów początkowych odpowiedź wyznaczona z równania różnicowego nie jest zgodna z rzeczywistą dynamiką systemu.\n",
    "\n",
    "- Aby uwzględnić warunki początkowe w odpowiedzi dyskretnej, konieczne jest użycie reprezentacji w przestrzeni stanów.\n",
    "\n",
    "- Inne metody dyskretyzacji (np. `'tustin'`, `'foh'`) mogą zmieniać sposób oddziaływania wejścia na wyjście, ale także wprowadzają inne uproszczenia lub przybliżenia i niekoniecznie oddają dokładnie dynamikę oryginalnego układu.\n",
    "\n"
   ]
  },
  {
   "cell_type": "markdown",
   "id": "e7503321",
   "metadata": {},
   "source": [
    "## Zadanie 3"
   ]
  },
  {
   "cell_type": "markdown",
   "id": "07221b10",
   "metadata": {},
   "source": [
    "<div style=\"text-align:center;\"><img src=\"./discrete_pid_flow.png\" alt=\"Discrete PID system diagram\"></div>\n"
   ]
  },
  {
   "cell_type": "markdown",
   "id": "5242cd72",
   "metadata": {},
   "source": [
    "#### Opis elementów diagramu:\n",
    "- $\\mathbf{\\Sigma}$ - Sumator/element różnicowy, porównuje wartość zadaną ze spróbkowaną wartością wyjściową i zwraca różnicę (uchyb),\n",
    "- **PID** - Dyskretny regulator PID,\n",
    "- **DAC** - Przetwornik cyfrowo-analogowy tworzący z dyskretnego wyjścia regulatora ciągły sygnał sterujący obiektem rzeczywistym,\n",
    "- **Obiekt** - Rzeczywisty obiekt przyjmujący sterowanie oraz generujący wyście w czasie ciągłym,\n",
    "- **Czujnik** - Element odczytujący wyście obiektu i przetwarzający je na analogowy sygnał elektryczny\n",
    "- **ADC** - Przetwornik analogowo-cyfrowy próbkujący wyjście obiektu odczytane przez czujnik aby przejść w dziedzinę czasu dyskretnego\n"
   ]
  },
  {
   "cell_type": "markdown",
   "id": "9607b9db",
   "metadata": {},
   "source": [
    "$$\n",
    "G_1(s)=\\frac{C}{(s+A)(s+B)(s-1)}=\\frac{C}{s^3+(A+B-1)s^2+(AB-A-B)s-AB}\n",
    "$$"
   ]
  },
  {
   "cell_type": "markdown",
   "id": "5356947f",
   "metadata": {},
   "source": [
    "### Konfiguracja \"regulator dyskretny i system ciągły\""
   ]
  },
  {
   "cell_type": "code",
   "execution_count": null,
   "id": "499748d3",
   "metadata": {},
   "outputs": [],
   "source": [
    "def r(k):\n",
    "    return 10 * (k >= 10)\n",
    "\n",
    "def pi_controller(Kp, Ki, ts):\n",
    "    e_sum = 0\n",
    "\n",
    "    def pi_controller_response(e_k):\n",
    "        nonlocal e_sum\n",
    "        e_sum += e_k * ts\n",
    "        return Kp * e_k + Ki * e_sum\n",
    "\n",
    "    return pi_controller_response\n",
    "\n",
    "G1 = ctrl.tf([C], [1, A + B - 1, A*B - A - B, -A*B])\n",
    "\n",
    "def simulate_g1_continous(Kp, Ki, ts, t_max=200):\n",
    "    k_vals = np.arange(9, t_max, ts)\n",
    "    N = len(k_vals)\n",
    "    y = np.zeros(N)\n",
    "    u = np.zeros(N)\n",
    "\n",
    "    controller = pi_controller(Kp, Ki, ts)\n",
    "\n",
    "    for i in range(N - 1):\n",
    "        k = k_vals[i]\n",
    "        u[i] = controller(r(k) - y[i])\n",
    "\n",
    "        t_lin = np.linspace(0, ts, 100)\n",
    "        u_lin = u[i] * np.ones_like(t_lin)\n",
    "        _, y_segment = ctrl.forced_response(G1, T=t_lin, U=u_lin, X0=0)\n",
    "\n",
    "\n",
    "        y[i + 1] = y_segment[-1]\n",
    "\n",
    "    return (k_vals, y, u)\n",
    "\n",
    "def plot_simulation_results(sim_out, ts, t_max, plot_title):\n",
    "    k_vals, y, u = sim_out\n",
    "    plt.figure(figsize=(12, 5))\n",
    "    plt.suptitle(plot_title, fontsize=16)\n",
    "\n",
    "    plt.subplot(1, 2, 1)\n",
    "    plt.plot(k_vals, y, label='Wyjście y(k)')\n",
    "    plt.plot([9,9.999,10,t_max], r(np.array([9,9.999,10,t_max])), 'k--', label='Sygnał referencyjny r(k)')\n",
    "    plt.xlabel('Czas [s]')\n",
    "    plt.ylabel('Wyjście układu')\n",
    "    plt.title('Odpowiedź układu')\n",
    "    plt.grid()\n",
    "    plt.legend()\n",
    "\n",
    "    plt.subplot(1, 2, 2)\n",
    "    plt.plot(k_vals, u, 'r', label='Sterowanie u(k)')\n",
    "    plt.xlabel('Czas [s]')\n",
    "    plt.ylabel('Sygnał sterujący')\n",
    "    plt.title('Sygnał sterujący regulatora PI')\n",
    "    plt.grid()\n",
    "    plt.legend()\n",
    "\n",
    "    plt.tight_layout()\n",
    "    plt.show()"
   ]
  },
  {
   "cell_type": "code",
   "execution_count": null,
   "id": "ec29fc31",
   "metadata": {},
   "outputs": [],
   "source": [
    "ts = 0.1\n",
    "kp = 0\n",
    "ki = 11200\n",
    "t_max = 15\n",
    "\n",
    "sim_out = simulate_g1_continous(kp, ki, ts, t_max)\n",
    "plot_simulation_results(sim_out, ts, t_max, f'Symulacja obiektu ciągłego z dyskretnym regulatorem PI (Kp={kp}, Ki={ki}, Ts={ts})')"
   ]
  },
  {
   "cell_type": "code",
   "execution_count": null,
   "id": "2693ae6b",
   "metadata": {},
   "outputs": [],
   "source": [
    "ts = 0.5\n",
    "kp = 0\n",
    "ki = 27\n",
    "t_max = 15\n",
    "\n",
    "sim_out = simulate_g1_continous(kp, ki, ts, t_max)\n",
    "plot_simulation_results(sim_out, ts, t_max, f'Symulacja obiektu ciągłego z dyskretnym regulatorem PI (Kp={kp}, Ki={ki}, Ts={ts})')"
   ]
  },
  {
   "cell_type": "code",
   "execution_count": null,
   "id": "a1424bb6",
   "metadata": {},
   "outputs": [],
   "source": [
    "ts = 1\n",
    "kp = 0\n",
    "ki = 2.55\n",
    "t_max = 15\n",
    "\n",
    "sim_out = simulate_g1_continous(kp, ki, ts, t_max)\n",
    "plot_simulation_results(sim_out, ts, t_max, f'Symulacja obiektu ciągłego z dyskretnym regulatorem PI (Kp={kp}, Ki={ki}, Ts={ts})')"
   ]
  },
  {
   "cell_type": "markdown",
   "id": "89be958c",
   "metadata": {},
   "source": [
    "### Konfiguracja \"regulator dyskretny i system dyskretny\""
   ]
  },
  {
   "cell_type": "code",
   "execution_count": null,
   "id": "3b6e14e0",
   "metadata": {},
   "outputs": [],
   "source": [
    "def simulate_g1_discrete(Kp, Ki, ts, t_max=100):\n",
    "    G1d = ctrl.sample_system(G1, ts, method='zoh')\n",
    "    G1_ss = ctrl.tf2ss(G1d)\n",
    "    A_d, B_d, C_d, D_d = G1_ss.A, G1_ss.B, G1_ss.C, G1_ss.D\n",
    "\n",
    "    k_vals = np.arange(9, t_max + ts, ts)\n",
    "    N = len(k_vals)\n",
    "    y = np.zeros(N)\n",
    "    u = np.zeros(N)\n",
    "    e = np.zeros(N)\n",
    "    x = np.zeros(A_d.shape[0])\n",
    "\n",
    "    controller = pi_controller(Kp, Ki, ts)\n",
    "\n",
    "    for i in range(N - 1):\n",
    "        e[i] = r(k_vals[i]) - y[i]\n",
    "        u[i] = controller(e[i])\n",
    "        x = A_d @ x + B_d.flatten() * u[i]\n",
    "        y[i + 1] = (C_d @ x).item() + D_d.item() * u[i]\n",
    "\n",
    "    e[-1] = r(k_vals[-1]) - y[-1]\n",
    "    u[-1] = controller(e[-1])\n",
    "\n",
    "    return k_vals, y, u\n"
   ]
  },
  {
   "cell_type": "code",
   "execution_count": null,
   "id": "be4b8a28",
   "metadata": {},
   "outputs": [],
   "source": [
    "kp = 1\n",
    "ki = 1\n",
    "ts = 0.1\n",
    "t_max = 200\n",
    "\n",
    "G1d = ctrl.sample_system(G1, ts, method='zoh')\n",
    "print(\"Moduły biegunów G1d:\", np.abs(ctrl.poles(G1d)))\n",
    "k_vals, y, u = simulate_g1_discrete(kp, ki, ts, t_max)\n",
    "plot_simulation_results((k_vals, y, u), ts, t_max, f'Symulacja obiektu dyskretnego z dyskretnym regulatorem PI (Kp={kp}, Ki={ki}, Ts={ts})')\n"
   ]
  },
  {
   "cell_type": "markdown",
   "id": "759a01e1",
   "metadata": {},
   "source": [
    "### Wnioski:\n",
    "- Dla konfiguracji \"regulator dyskretny i system ciągły\" udało się pomyślnie dobrać nastawy regulatora dyskretnego $PI$ tak aby osiągnąć stabilność, stłumić oscylacje i nawet osiągnąć wartość oczekiwaną w stosunkowo krótkim czasie. Eksperymentalnie wyznaczone nastawy:\n",
    "  - **Ts = 0.1s** : *Kp = 0 , Ki = 11200*\n",
    "  - **Ts = 0.5s** : *Kp = 0 , Ki = 27*\n",
    "  - **Ts = 1s** : *Kp = 0 , Ki = 2.55*\n",
    "- Wprowadzenie nawet najmniejszej wartości *Kp* powodowało pojawianie się oscylacji w momencie zbliżania się do wartości zadanej. *Ki* zostało dobrane tak aby jaknajszybciej osiągnąć *r(k)*, jednocześnie eliminując oscylacje w okolicach pobudzenia k=10.\n",
    "- W konfiguracji \"regulator dyskretny i system dyskretny\" nie udało się osiągnąć stabliności niezależnie od nastaw regulatora $PI$ i okresu próbkowania $Ts$. Możliwe przyczyny:\n",
    "  - Obiekt po dyskretyzacji posiada 1 biegun niestabliny (1.01005017 > 1), a dwa pozostałe są bardzo blisko granicy stabliności (0.97044553, 0.97044553). W teorii stabilizacja dyskretnym regulatorem $PI$ powinna być możliwa, jednak czułość obiektu na najmniejszą różnicę w nastawach powoduje że eksperymentalnie jest to bliskie niemożliwemu.\n",
    "  - Obiekt ma naturalną tendencję do gwałtownych oscylacji, a w szczególności człon $I$ potęguje tą charakterystykę.\n",
    "\n"
   ]
  },
  {
   "cell_type": "markdown",
   "id": "9d1c7d86",
   "metadata": {},
   "source": [
    "### Analityczna analiza stabliności zdyskretyzowanego systemu $G1(s)$ z wykorzystaniem kryterium Jurry'ego\n",
    "#### Dla dyskretnej transmitancji $G1(z)$ wyznaczonej w zadaniu 1:\n",
    "$$\n",
    "G_1(z)=-\\frac{3Tze^{3T}}{2(ze^{3T}-1)^2}-\\frac{3ze^{3T}}{8(ze^{3T}-1)}+\\frac{3z}{8(z-e^T)}\n",
    "$$\n",
    "Wielomian standardowy $P(z)$ (czynniki mianowników) ma postać :\n",
    "$$\n",
    "P(z)=(ze^{3T})^2(z-e^T)=z^3e^{6T}-z^2(e^{7T}+2e^{3T})+z(2e^{4T}+1)-e^T\n",
    "$$\n",
    "Wyciągnięcie współczynników do wykorzystania w kryterium:\n",
    "$$\n",
    "P(z)=a_0z^3+a_1z^2+a_2z+a_3 \\\\\n",
    "\\begin{cases}\n",
    "a_0=e^{6T} \\\\\n",
    "a_1=-(e^{7T}+2e^{3T})=-e^{3T}(e^{4T+2}) \\\\\n",
    "a_2=2e^{4T}+1 \\\\\n",
    "a_3=-e^T\n",
    "\\end{cases}\n",
    "$$\n",
    "Warunki Jurry'ego dla stabilności układu:\n",
    "$$\n",
    "\\begin{cases}\n",
    "1.\\quad |a_3| < a_0 \\\\\n",
    "2.\\quad |a_0a_2-a_3a_1| < a_0a_3 \\\\\n",
    "3.\\quad |a_1a_2-a_0a_3| < a_0^2a_3^2 \\\\\n",
    "4.\\quad a_0 > 0 , a_3 > 0\n",
    "\\end{cases}\n",
    "$$\n",
    "Interesujący wynik daje punkt 4. kryterium:\n",
    "$$\n",
    "\\begin{cases}\n",
    "a_0=e^{6T} > 0 \\quad\\forall \\: T \\qquad OK \\\\\n",
    "A_3=-e^T < 0 \\quad\\forall \\: T \\quad ! NIESTABILNY !\n",
    "\\end{cases}\n",
    "$$\n",
    "\n",
    "### Wnioski:\n",
    "- Układ o dyskretnej transmitancji $G1(z)$ jest niestabilny na podstawie kryterium Jurry'ego.\n",
    "- Wynik ten jest zgodny z analizą biegunów wyznaczonych automatycznie w poprzednim podpunkcie."
   ]
  },
  {
   "cell_type": "markdown",
   "id": "d92636d7",
   "metadata": {},
   "source": [
    "### Implementacja automatycznej analizy stabilności systemu dyskretnego z wykorzystaniem kryterium Jurry-ego"
   ]
  },
  {
   "cell_type": "code",
   "execution_count": null,
   "id": "6b05f43f",
   "metadata": {},
   "outputs": [],
   "source": [
    "import sympy as sp\n",
    "from sympy.abc import s, z\n",
    "Ts = sp.symbols('Ts')\n",
    "import numpy as np\n",
    "\n",
    "def discretize_G1(Ts_val):\n",
    "    G1 = 6 / ((s + 3)**2 * (s - 1))\n",
    "    s_to_z = (2/Ts) * (z - 1) / (z + 1)\n",
    "    Gz = G1.subs(s, s_to_z)\n",
    "    Gz = sp.simplify(Gz)\n",
    "\n",
    "    num, den = sp.fraction(Gz)\n",
    "    num = sp.expand(num)\n",
    "    den = sp.expand(den)\n",
    "    char_poly = sp.expand(den + num)\n",
    "    char_poly_num = char_poly.evalf(subs={Ts: Ts_val})\n",
    "\n",
    "    char_poly_poly = sp.Poly(char_poly_num, z)\n",
    "    coeffs = char_poly_poly.all_coeffs()\n",
    "    coeffs = [float(c) for c in coeffs]\n",
    "\n",
    "    return Gz.evalf(subs={Ts: Ts_val}), coeffs\n",
    "\n",
    "def jury_stability(coeffs):\n",
    "    a = coeffs[:]\n",
    "    n = len(a) - 1\n",
    "\n",
    "    # Warunek 1: |a[n]| < |a[0]|\n",
    "    if abs(a[-1]) >= abs(a[0]):\n",
    "        print(\"Warunek 1 nie spełniony: |a[n]| >= |a[0]|\")\n",
    "        return False\n",
    "\n",
    "    # Warunek 2: suma wszystkich współczynników > 0\n",
    "    if sum(a) <= 0:\n",
    "        print(\"Warunek 2 nie spełniony: suma współczynników <= 0\")\n",
    "        return False\n",
    "\n",
    "    # Warunek 3: naprzemienna suma współczynników > 0\n",
    "    alt_sum = sum([(-1)**i * a[i] for i in range(n+1)])\n",
    "    if alt_sum <= 0:\n",
    "        print(\"Warunek 3 nie spełniony: naprzemienna suma <= 0\")\n",
    "        return False\n",
    "\n",
    "    # Iteracyjne sprawdzanie Jury’ego\n",
    "    def build_next_row(row):\n",
    "        a0 = row[0]\n",
    "        an = row[-1]\n",
    "        next_row = []\n",
    "        for i in range(len(row)-1):\n",
    "            val = row[i] - (an/a0) * row[-i-1]\n",
    "            next_row.append(val)\n",
    "        return next_row\n",
    "\n",
    "    current_row = a\n",
    "    for step in range(n - 1):\n",
    "        if current_row[0] == 0:\n",
    "            print(f\"Przerwano: pierwszy element wiersza {step} równy zero.\")\n",
    "            return False\n",
    "        current_row = build_next_row(current_row)\n",
    "        current_row = [float(x) for x in current_row]\n",
    "        current_row = [x / current_row[0] for x in current_row]\n",
    "        if len(current_row) == 1:\n",
    "            break\n",
    "        if any(np.isnan(current_row)) or any(np.isinf(current_row)):\n",
    "            print(\"Pojawiły się NaNy lub infy – niestabilny lub źle sformułowany wielomian.\")\n",
    "            return False\n",
    "\n",
    "    return True\n",
    "\n",
    "\n",
    "def check_stability_roots(coeffs):\n",
    "    roots = np.roots(coeffs)\n",
    "    print(\"Moduły pierwiastków wielomianu charakterystycznego:\")\n",
    "    for r in roots:\n",
    "        print(f\"{abs(r):.6f}\")\n",
    "    stable = all(abs(r) < 1 for r in roots)\n",
    "    print(\"Stabilny (wszystkie pierwiastki w jednostkowym kole):\", stable)\n",
    "\n",
    "Ts_example = 0.001\n",
    "Gz_discrete, char_poly_coeffs = discretize_G1(Ts_example)\n",
    "print(f\"Dyskretna transmitancja G(z) dla Ts={Ts_example}:\")\n",
    "print(Gz_discrete)\n",
    "print(\"\\nWspółczynniki wielomianu charakterystycznego P(z):\")\n",
    "print(char_poly_coeffs)\n",
    "\n",
    "print(\"\\nTest Jurry'ego:\")\n",
    "print(\"Stabilność wg Jurry'ego:\", jury_stability(char_poly_coeffs))\n",
    "\n",
    "print(\"\\nTest pierwiastków wielomianu:\")\n",
    "check_stability_roots(char_poly_coeffs)\n"
   ]
  },
  {
   "cell_type": "markdown",
   "id": "e77d44df",
   "metadata": {},
   "source": [
    "### Wnioski:\n",
    "- Automatycznie przeprowadzone kryterium Jurry'ego stwierdza że układ o dyskretnej transmitancji $G1(z)$ jest niestabilny.\n",
    "- Automatycznie uzyskany wynik kryterium jest zgodny z wynikiem uzyskanym ręcznie.\n",
    "- Wynik ten jest zgodny z analizą biegunów wyznaczonych automatycznie."
   ]
  }
 ],
 "metadata": {
  "kernelspec": {
   "display_name": ".venv",
   "language": "python",
   "name": "python3"
  },
  "language_info": {
   "codemirror_mode": {
    "name": "ipython",
    "version": 3
   },
   "file_extension": ".py",
   "mimetype": "text/x-python",
   "name": "python",
   "nbconvert_exporter": "python",
   "pygments_lexer": "ipython3",
   "version": "3.13.2"
  }
 },
 "nbformat": 4,
 "nbformat_minor": 5
}
