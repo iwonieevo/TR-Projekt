{
 "cells": [
  {
   "cell_type": "markdown",
   "metadata": {},
   "source": [
    "\n",
    "# Technika regulacji - Sprawozdanie 1\n",
    "\n",
    "**Iwo Chwiszczuk 280043, Szymon Flis 280153**  \n",
    "---\n"
   ]
  },
  {
   "cell_type": "markdown",
   "metadata": {},
   "source": [
    "### Zadanie 1"
   ]
  },
  {
   "cell_type": "code",
   "execution_count": null,
   "metadata": {},
   "outputs": [],
   "source": [
    "import sympy as sp\n",
    "import control as ctrl\n",
    "import numpy as np\n",
    "import matplotlib.pyplot as plt\n",
    "import pandas as pd\n",
    "from IPython.display import display, Math\n",
    "sp.init_printing()\n",
    "\n",
    "A, B = 3, 3\n",
    "C = A + B\n",
    "t, s = sp.symbols('t, s')\n",
    "f1_t = A * t * sp.exp(-B * t)\n",
    "f2_t = A - sp.exp(-2*t) * (sp.sin(t - B) - sp.cos(t - B) \n",
    "                            + sp.sin(t - C) * sp.cos(t - C))\n",
    "F1_s = sp.laplace_transform(f1_t, t, s, noconds=True).simplify()\n",
    "F2_s = sp.laplace_transform(f2_t, t, s, noconds=True).simplify()\n",
    "\n"
   ]
  },
  {
   "cell_type": "markdown",
   "metadata": {},
   "source": [
    "Funkcje f_1(t) i f_2(t)"
   ]
  },
  {
   "cell_type": "code",
   "execution_count": null,
   "metadata": {},
   "outputs": [],
   "source": [
    "[f1_t, f2_t]"
   ]
  },
  {
   "cell_type": "markdown",
   "metadata": {},
   "source": [
    "Wyliczone transformaty Laplace'a funkcji f_1(t) i f_2(t) (Odpowiednio F_1(s) i F_2(s))"
   ]
  },
  {
   "cell_type": "code",
   "execution_count": null,
   "metadata": {},
   "outputs": [],
   "source": [
    "[F1_s, F2_s]"
   ]
  },
  {
   "cell_type": "code",
   "execution_count": null,
   "metadata": {},
   "outputs": [],
   "source": [
    "L_s, M_s = sp.fraction(F1_s)\n",
    "num_coeffs = [float(c) for c in sp.Poly(L_s, s).all_coeffs()]\n",
    "den_coeffs = [float(c) for c in sp.Poly(M_s, s).all_coeffs()]\n",
    "\n",
    "K_s = ctrl.TransferFunction(num_coeffs, den_coeffs)\n",
    "\n",
    "T = np.linspace(0, 4, 1200)\n",
    "for A_step in [1, 5]:\n",
    "    T, y_t = ctrl.step_response(A_step * K_s, T)\n",
    "    plt.plot(T, y_t, label=f\"Amplituda = {A_step}\")\n",
    "\n",
    "plt.title(\"Odpowiedź układu na skok jednostkowy\")\n",
    "plt.xlabel(\"Czas [s]\")\n",
    "plt.ylabel(\"y(t)\")\n",
    "plt.legend()\n",
    "plt.grid()\n",
    "plt.show()"
   ]
  }
 ],
 "metadata": {
  "kernelspec": {
   "display_name": ".venv",
   "language": "python",
   "name": "python3"
  },
  "language_info": {
   "codemirror_mode": {
    "name": "ipython",
    "version": 3
   },
   "file_extension": ".py",
   "mimetype": "text/x-python",
   "name": "python",
   "nbconvert_exporter": "python",
   "pygments_lexer": "ipython3",
   "version": "3.13.2"
  }
 },
 "nbformat": 4,
 "nbformat_minor": 2
}
