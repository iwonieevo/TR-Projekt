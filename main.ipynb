{
 "cells": [
  {
   "cell_type": "markdown",
   "metadata": {},
   "source": [
    "\n",
    "\\title{Technika regulacji - Sprawozdanie 1}\n",
    "\\author{Iwo Chwiszczuk 280043, Szymon Flis 280153}\n",
    "\\date{\\today}\n",
    "\\maketitle\n",
    "\\newpage"
   ]
  },
  {
   "cell_type": "code",
   "execution_count": null,
   "metadata": {},
   "outputs": [],
   "source": [
    "import sympy as sp\n",
    "import control as ctrl\n",
    "import numpy as np\n",
    "import matplotlib.pyplot as plt\n",
    "sp.init_printing()\n",
    "\n",
    "def makelatex(args):\n",
    "    return [\"$${}$$\".format(sp.latex(a)) for a in args]\n",
    "\n",
    "A, B = 3, 3\n",
    "C = A + B"
   ]
  },
  {
   "cell_type": "code",
   "execution_count": null,
   "metadata": {},
   "outputs": [],
   "source": [
    "t, s = sp.symbols('t, s')\n",
    "f1 = A * t * sp.exp(-B * t)\n",
    "f2 = A - sp.exp(-2*t) * (sp.sin(t - B) - sp.cos(t - B) \n",
    "                            + sp.sin(t - C) * sp.cos(t - C))\n",
    "F1 = sp.laplace_transform(f1, t, s, noconds=True)\n",
    "F2 = sp.laplace_transform(f2, t, s, noconds=True)"
   ]
  },
  {
   "cell_type": "code",
   "execution_count": 36,
   "metadata": {},
   "outputs": [
    {
     "data": {
      "image/png": "[encoded data removed]",
      "text/latex": [
       "$\\displaystyle \\left[ 3 t e^{- 3 t}, \\  - \\left(\\sin{\\left(t - 6 \\right)} \\cos{\\left(t - 6 \\right)} + \\sin{\\left(t - 3 \\right)} - \\cos{\\left(t - 3 \\right)}\\right) e^{- 2 t} + 3\\right]$"
      ],
      "text/plain": [
       "⎡     -3⋅t                                                       -2⋅t    ⎤\n",
       "⎣3⋅t⋅ℯ    , - (sin(t - 6)⋅cos(t - 6) + sin(t - 3) - cos(t - 3))⋅ℯ     + 3⎦"
      ]
     },
     "execution_count": 36,
     "metadata": {},
     "output_type": "execute_result"
    }
   ],
   "source": [
    "[f1, f2]"
   ]
  },
  {
   "cell_type": "code",
   "execution_count": 37,
   "metadata": {},
   "outputs": [
    {
     "data": {
      "image/png": "[encoded data removed]",
      "text/latex": [
       "$\\displaystyle \\left[ \\frac{3}{\\left(s + 3\\right)^{2}}, \\  \\frac{\\left(s + 2\\right) \\cos{\\left(3 \\right)} + \\cos{\\left(3 - \\frac{\\pi}{2} \\right)}}{\\left(s + 2\\right)^{2} + 1} - \\frac{- \\left(s + 2\\right) \\cos{\\left(3 - \\frac{\\pi}{2} \\right)} + \\cos{\\left(3 \\right)}}{\\left(s + 2\\right)^{2} + 1} - \\frac{- \\frac{\\left(s + 2\\right) \\cos{\\left(12 - \\frac{\\pi}{2} \\right)}}{2} + \\cos{\\left(12 \\right)}}{\\left(s + 2\\right)^{2} + 4} + \\frac{3}{s}\\right]$"
      ],
      "text/plain": [
       "⎡                                                                              ↪\n",
       "⎢                                                                          (s  ↪\n",
       "⎢                              ⎛    π⎞                ⎛    π⎞                  ↪\n",
       "⎢          (s + 2)⋅cos(3) + cos⎜3 - ─⎟   - (s + 2)⋅cos⎜3 - ─⎟ + cos(3)   - ─── ↪\n",
       "⎢   3                          ⎝    2⎠                ⎝    2⎠                  ↪\n",
       "⎢────────, ─────────────────────────── - ───────────────────────────── - ───── ↪\n",
       "⎢       2                2                              2                      ↪\n",
       "⎣(s + 3)          (s + 2)  + 1                   (s + 2)  + 1                  ↪\n",
       "\n",
       "↪         ⎛     π⎞              ⎤\n",
       "↪ + 2)⋅cos⎜12 - ─⎟              ⎥\n",
       "↪         ⎝     2⎠              ⎥\n",
       "↪ ──────────────── + cos(12)    ⎥\n",
       "↪       2                      3⎥\n",
       "↪ ────────────────────────── + ─⎥\n",
       "↪            2                 s⎥\n",
       "↪     (s + 2)  + 4              ⎦"
      ]
     },
     "execution_count": 37,
     "metadata": {},
     "output_type": "execute_result"
    }
   ],
   "source": [
    "[F1, F2]"
   ]
  }
 ],
 "metadata": {
  "kernelspec": {
   "display_name": ".venv",
   "language": "python",
   "name": "python3"
  },
  "language_info": {
   "codemirror_mode": {
    "name": "ipython",
    "version": 3
   },
   "file_extension": ".py",
   "mimetype": "text/x-python",
   "name": "python",
   "nbconvert_exporter": "python",
   "pygments_lexer": "ipython3",
   "version": "3.13.2"
  }
 },
 "nbformat": 4,
 "nbformat_minor": 2
}
